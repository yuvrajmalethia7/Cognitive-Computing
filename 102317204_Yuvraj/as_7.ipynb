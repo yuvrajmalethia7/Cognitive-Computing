{
 "cells": [
  {
   "cell_type": "code",
   "execution_count": null,
   "metadata": {},
   "outputs": [],
   "source": [
    "import numpy as np\n",
    "import pandas as pd\n",
    "\n",
    "seed_value = 102317200\n",
    "np.random.seed(seed_value)\n",
    "\n",
    "months_list = [\"Jan\", \"Feb\", \"Mar\", \"Apr\", \"May\", \"Jun\", \"Jul\", \"Aug\", \"Sep\", \"Oct\", \"Nov\", \"Dec\"]\n",
    "product_categories = [\"Electronics\", \"Clothing\", \"Home & Kitchen\", \"Sports\"]\n",
    "\n",
    "sales_matrix = np.random.randint(1000, 5001, size=(12, 4))\n",
    "\n",
    "df_sales = pd.DataFrame(sales_matrix, columns=product_categories, index=months_list)\n",
    "\n",
    "print(df_sales.head())\n",
    "print(df_sales.describe())\n",
    "\n",
    "category_totals = df_sales.sum()\n",
    "print(category_totals)\n",
    "\n",
    "monthly_totals = df_sales.sum(axis=1)\n",
    "print(monthly_totals)\n",
    "\n",
    "df_sales[\"Total Revenue\"] = monthly_totals\n",
    "df_sales[\"Growth Percentage\"] = df_sales[\"Total Revenue\"].pct_change() * 100\n",
    "\n",
    "print(df_sales)\n",
    "\n",
    "discounted_sales = df_sales.copy()\n",
    "if seed_value % 2 == 0:\n",
    "    discounted_sales[\"Electronics\"] *= 0.9\n",
    "else:\n",
    "    discounted_sales[\"Clothing\"] *= 0.85\n",
    "\n",
    "discounted_sales\n"
   ]
  },
  {
   "cell_type": "code",
   "execution_count": null,
   "metadata": {},
   "outputs": [],
   "source": [
    "import matplotlib.pyplot as plt\n",
    "import seaborn as sns\n",
    "\n",
    "plt.figure(figsize=(12, 6))\n",
    "df_sales.plot(kind='line', marker='o', title='Monthly Sales Trends')\n",
    "plt.xlabel(\"Month\")\n",
    "plt.ylabel(\"Sales\")\n",
    "plt.legend(loc='upper left')\n",
    "plt.show()\n",
    "\n",
    "plt.figure(figsize=(10, 5))\n",
    "sns.boxplot(data=df_sales[product_categories])\n",
    "plt.title(\"Sales Distribution Across Categories\")\n",
    "plt.show()\n"
   ]
  },
  {
   "cell_type": "code",
   "execution_count": null,
   "metadata": {},
   "outputs": [],
   "source": [
    "\n",
    "array = np.array([[1, -2, 3], [-4, 5, -6]])\n",
    "print(np.abs(array))\n",
    "print(np.percentile(array, [25, 50, 75], axis=None))\n",
    "print(np.percentile(array, [25, 50, 75], axis=0))\n",
    "print(np.percentile(array, [25, 50, 75], axis=1))\n",
    "print(np.mean(array))\n",
    "print(np.median(array))\n",
    "print(np.std(array))"
   ]
  },
  {
   "cell_type": "code",
   "execution_count": null,
   "metadata": {},
   "outputs": [],
   "source": [
    "a = np.array([-1.8, -1.6, -0.5, 0.5, 1.6, 1.8, 3.0])\n",
    "print(np.floor(a))\n",
    "print(np.ceil(a))\n",
    "print(np.trunc(a))\n",
    "print(np.round(a))"
   ]
  },
  {
   "cell_type": "code",
   "execution_count": null,
   "metadata": {},
   "outputs": [],
   "source": [
    "lst = [1, 2, 3, 4, 5]\n",
    "temp = lst[1]\n",
    "lst[1] = lst[3]\n",
    "lst[3] = temp\n",
    "print(\"Swapped List:\", lst)"
   ]
  },
  {
   "cell_type": "code",
   "execution_count": null,
   "metadata": {},
   "outputs": [],
   "source": [
    "s = {10, 20, 30, 40, 50}\n",
    "sl = list(s)\n",
    "sl[0], sl[4] = sl[4], sl[0]\n",
    "ss = set(sl)\n",
    "print(\"Swapped Set:\", ss)"
   ]
  }
 ],
 "metadata": {
  "language_info": {
   "name": "python"
  }
 },
 "nbformat": 4,
 "nbformat_minor": 2
}
