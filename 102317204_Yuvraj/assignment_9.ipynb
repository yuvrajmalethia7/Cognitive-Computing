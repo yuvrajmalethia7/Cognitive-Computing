{
 "cells": [
  {
   "cell_type": "markdown",
   "id": "95757567",
   "metadata": {},
   "source": [
    "## Q1 - Text Preprocessing"
   ]
  },
  {
   "cell_type": "markdown",
   "id": "e88e8e55",
   "metadata": {},
   "source": [
    "### Step 1: Importing libraries and setting up the paragraph"
   ]
  },
  {
   "cell_type": "code",
   "execution_count": null,
   "id": "17ada45a",
   "metadata": {},
   "outputs": [],
   "source": [
    "import nltk\n",
    "\n",
    "# These are the correct names for the required resources\n",
    "nltk.download('punkt')         # For tokenization\n",
    "nltk.download('stopwords')     # For stopword removal\n",
    "nltk.download('wordnet')       # For lemmatization\n"
   ]
  },
  {
   "cell_type": "code",
   "execution_count": null,
   "id": "93f59b51",
   "metadata": {},
   "outputs": [],
   "source": [
    "import nltk\n",
    "import re\n",
    "from nltk.tokenize import word_tokenize, sent_tokenize\n",
    "from nltk.corpus import stopwords\n",
    "\n",
    "nltk.download('punkt')\n",
    "nltk.download('stopwords')\n",
    "\n",
    "paragraph = (\n",
    "    \"1 Engaging in sports is crucial for students and children, significantly impacting their overall development \"\n",
    "    \"and well-being.2 The physical health benefits include maintaining a healthy weight, enhancing cardiovascular \"\n",
    "    \"health, and developing motor skills.3 Furthermore, sports contribute to mental and emotional strength by \"\n",
    "    \"reducing stress, boosting self-esteem, and fostering teamwork abilities.4 Additionally, participation in sports \"\n",
    "    \"promotes social skills, enhances academic performance, and builds lifelong competencies such as discipline and \"\n",
    "    \"resilience.5 Overall, sports are vital for cultivating well-rounded individuals.\"\n",
    ")"
   ]
  },
  {
   "cell_type": "markdown",
   "id": "f6470c23",
   "metadata": {},
   "source": [
    "### Step 2: Converting to lowercase and removing punctuation"
   ]
  },
  {
   "cell_type": "code",
   "execution_count": null,
   "id": "23e747af",
   "metadata": {},
   "outputs": [],
   "source": [
    "import nltk\n",
    "nltk.download('punkt')\n",
    "nltk.download('stopwords')\n",
    "nltk.download('wordnet')\n"
   ]
  },
  {
   "cell_type": "code",
   "execution_count": null,
   "id": "a4df21a2",
   "metadata": {},
   "outputs": [],
   "source": [
    "paragraph_lower = paragraph.lower()\n",
    "print(paragraph_lower)\n",
    "\n",
    "no_punct = re.sub(r'[^\\w\\s]', '', paragraph)\n",
    "print(no_punct)"
   ]
  },
  {
   "cell_type": "markdown",
   "id": "ebbf1939",
   "metadata": {},
   "source": [
    "### Step 3: Tokenizing words and sentences"
   ]
  },
  {
   "cell_type": "code",
   "execution_count": null,
   "id": "655f7dea",
   "metadata": {},
   "outputs": [],
   "source": [
    "import nltk\n",
    "nltk.download('punkt')\n"
   ]
  },
  {
   "cell_type": "code",
   "execution_count": null,
   "id": "c9773ae1",
   "metadata": {},
   "outputs": [],
   "source": []
  },
  {
   "cell_type": "code",
   "execution_count": null,
   "id": "461cd515",
   "metadata": {},
   "outputs": [],
   "source": [
    "words = word_tokenize(paragraph)\n",
    "print(words)\n",
    "\n",
    "sentences = sent_tokenize(paragraph)\n",
    "print(sentences)"
   ]
  },
  {
   "cell_type": "markdown",
   "id": "a4812580",
   "metadata": {},
   "source": [
    "### Step 4: Removing stopwords"
   ]
  },
  {
   "cell_type": "code",
   "execution_count": null,
   "id": "10ee533d",
   "metadata": {},
   "outputs": [],
   "source": [
    "stop_words = set(stopwords.words('english'))\n",
    "filtered = [word for word in words if word.lower() not in stop_words]\n",
    "print(filtered)"
   ]
  },
  {
   "cell_type": "markdown",
   "id": "4f1fab56",
   "metadata": {},
   "source": [
    "### Step 5: Calculating word frequency"
   ]
  },
  {
   "cell_type": "code",
   "execution_count": null,
   "id": "8a61fd67",
   "metadata": {},
   "outputs": [],
   "source": [
    "freq = {}\n",
    "for word in filtered:\n",
    "    freq[word] = freq.get(word, 0) + 1\n",
    "print(freq)"
   ]
  },
  {
   "cell_type": "markdown",
   "id": "a382a9af",
   "metadata": {},
   "source": [
    "## Q2 - Stemming and Lemmatization"
   ]
  },
  {
   "cell_type": "markdown",
   "id": "92e59443",
   "metadata": {},
   "source": [
    "### Step 6: Applying Porter Stemmer, Lancaster Stemmer, and WordNet Lemmatizer"
   ]
  },
  {
   "cell_type": "code",
   "execution_count": null,
   "id": "69063659",
   "metadata": {},
   "outputs": [],
   "source": [
    "from nltk.stem import PorterStemmer, LancasterStemmer\n",
    "from nltk.stem import WordNetLemmatizer\n",
    "\n",
    "nltk.download('wordnet')\n",
    "\n",
    "porter = PorterStemmer()\n",
    "lancaster = LancasterStemmer()\n",
    "lemmatizer = WordNetLemmatizer()\n",
    "\n",
    "porter_result = [porter.stem(word) for word in filtered]\n",
    "print(porter_result)\n",
    "\n",
    "lancaster_result = [lancaster.stem(word) for word in filtered]\n",
    "print(lancaster_result)\n",
    "\n",
    "lemmatized_result = [lemmatizer.lemmatize(word) for word in filtered]\n",
    "print(lemmatized_result)"
   ]
  },
  {
   "cell_type": "markdown",
   "id": "fc5825a6",
   "metadata": {},
   "source": [
    "## Q3 - Regex Based Analysis"
   ]
  },
  {
   "cell_type": "markdown",
   "id": "435eff24",
   "metadata": {},
   "source": [
    "### Step 7: Finding long words, numbers, and capitalized words"
   ]
  },
  {
   "cell_type": "code",
   "execution_count": null,
   "id": "daad548f",
   "metadata": {},
   "outputs": [],
   "source": [
    "long_words = re.findall(r'\\b\\w{6,}\\b', paragraph)\n",
    "print(long_words)\n",
    "\n",
    "numbers = re.findall(r'\\d+', paragraph)\n",
    "print(numbers)\n",
    "\n",
    "capitalized = re.findall(r'\\b[A-Z][a-z]*\\b', paragraph)\n",
    "print(capitalized)"
   ]
  },
  {
   "cell_type": "markdown",
   "id": "86b93e82",
   "metadata": {},
   "source": [
    "### Step 8: Finding words and those starting with vowels"
   ]
  },
  {
   "cell_type": "code",
   "execution_count": null,
   "id": "2e84fa5b",
   "metadata": {},
   "outputs": [],
   "source": [
    "split_all = re.findall(r'\\b[a-zA-Z]+\\b', paragraph)\n",
    "print(split_all)\n",
    "\n",
    "starts_with_vowel = [word for word in split_all if word[0].lower() in 'aeiou']\n",
    "print(starts_with_vowel)"
   ]
  },
  {
   "cell_type": "markdown",
   "id": "b72cdbcd",
   "metadata": {},
   "source": [
    "## Q4 - Custom Tokenization and Placeholder Replacement"
   ]
  },
  {
   "cell_type": "markdown",
   "id": "267390bd",
   "metadata": {},
   "source": [
    "### Step 9: Custom tokenization using regex"
   ]
  },
  {
   "cell_type": "code",
   "execution_count": null,
   "id": "06e02f45",
   "metadata": {},
   "outputs": [],
   "source": [
    "def tokenize_custom(text):\n",
    "    pattern = r\"\\b(?:\\d+\\.\\d+|\\d+|[a-zA-Z]+(?:[-'][a-zA-Z]+)*)\\b\"\n",
    "    return re.findall(pattern, text)\n",
    "\n",
    "print(tokenize_custom(paragraph))"
   ]
  },
  {
   "cell_type": "markdown",
   "id": "745c4fa7",
   "metadata": {},
   "source": [
    "### Step 10: Replacing emails, URLs, and phone numbers with placeholders"
   ]
  },
  {
   "cell_type": "code",
   "execution_count": null,
   "id": "455606ac",
   "metadata": {},
   "outputs": [],
   "source": [
    "sample = \"Contact us at abc123@gmail.com or visit https://www.abc123.com for info. You can also call 123456789.\"\n",
    "\n",
    "def replace_sensitive_info(text):\n",
    "    text = re.sub(r'\\b[a-zA-Z0-9._%+-]+@[a-zA-Z0-9.-]+\\.[a-zA-Z]{2,}\\b', '<EMAIL>', text)\n",
    "    text = re.sub(r'\\b(?:https?://|www\\.)\\S+\\b', '<URL>', text)\n",
    "    text = re.sub(r'\\b\\d{9,}\\b', '<PHONE>', text)\n",
    "    return text\n",
    "\n",
    "print(replace_sensitive_info(sample))"
   ]
  }
 ],
 "metadata": {
  "kernelspec": {
   "display_name": "Python 3",
   "language": "python",
   "name": "python3"
  },
  "language_info": {
   "codemirror_mode": {
    "name": "ipython",
    "version": 3
   },
   "file_extension": ".py",
   "mimetype": "text/x-python",
   "name": "python",
   "nbconvert_exporter": "python",
   "pygments_lexer": "ipython3",
   "version": "3.13.1"
  }
 },
 "nbformat": 4,
 "nbformat_minor": 5
}
