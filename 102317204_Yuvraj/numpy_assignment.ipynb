{
 "cells": [
  {
   "cell_type": "markdown",
   "metadata": {},
   "source": [
    "Q1"
   ]
  },
  {
   "cell_type": "code",
   "execution_count": null,
   "metadata": {},
   "outputs": [],
   "source": [
    "import numpy as np\n",
    "\n",
    "a =np.array([1,2,3,4,5])\n",
    "add=a+2\n",
    "multi=a*3\n",
    "div=a/2\n",
    "print(a)\n",
    "print(add)\n",
    "print(multi)\n",
    "print(div)"
   ]
  },
  {
   "cell_type": "markdown",
   "metadata": {},
   "source": [
    "Q2"
   ]
  },
  {
   "cell_type": "code",
   "execution_count": null,
   "metadata": {},
   "outputs": [],
   "source": [
    "arr = np.array([1, 2, 3, 6, 4, 5])\n",
    "reversed_arr=arr[::-1]\n",
    "print(\"Reversed Array:\", reversed_arr)\n",
    "\n",
    "x = np.array([1,2,3,4,5,1,2,1,1,1])\n",
    "y = np.array([1, 1, 1, 2, 3, 4, 2, 4, 3, 3])\n",
    "\n",
    "most_frequent_x = np.bincount(x).argmax()\n",
    "indices_x = np.where(x == most_frequent_x)\n",
    "print(f\"{most_frequent_x} is most frequent in x at indices: {indices_x}\")\n",
    "\n",
    "most_frequent_y = np.bincount(y).argmax()\n",
    "indices_y = np.where(y == most_frequent_y)\n",
    "print(f\"{most_frequent_y} is most frequent in y at indices: {indices_y}\")"
   ]
  },
  {
   "cell_type": "markdown",
   "metadata": {},
   "source": [
    "Q3"
   ]
  },
  {
   "cell_type": "code",
   "execution_count": null,
   "metadata": {},
   "outputs": [],
   "source": [
    "arr=np.array([[10, 20, 30], [40, 50, 60], [70, 80, 90]])\n",
    "print(arr)\n",
    "arr_1_2 = arr[0][1]\n",
    "print(arr_1_2)\n",
    "arr_3_1 = arr[2][0]\n",
    "print(arr_3_1)\n"
   ]
  },
  {
   "cell_type": "markdown",
   "metadata": {},
   "source": [
    "Q4"
   ]
  },
  {
   "cell_type": "code",
   "execution_count": null,
   "metadata": {},
   "outputs": [],
   "source": [
    "yuvraj = np.linspace(10, 100, 25)\n",
    "print(yuvraj)\n",
    "\n",
    "print(\"Dimensions:\", yuvraj.ndim)\n",
    "print(\"Shape:\", yuvraj.shape)\n",
    "print(\"Total elements:\", yuvraj.size)\n",
    "print(\"Data type:\", yuvraj.dtype)\n",
    "print(\"Total bytes consumed:\", yuvraj.nbytes)\n",
    "\n",
    "transposed_arr = yuvraj.reshape(25,1)\n",
    "print(\"Transposed:\\n\", transposed_arr)\n",
    "\n",
    "print(\"Transpose using T:\", yuvraj.T)\n"
   ]
  },
  {
   "cell_type": "markdown",
   "metadata": {},
   "source": [
    "Q5"
   ]
  },
  {
   "cell_type": "code",
   "execution_count": null,
   "metadata": {},
   "outputs": [],
   "source": [
    "ucs420_yuvraj = np.array([[10, 20, 30, 40], [50, 60, 70, 80], [90, 15, 20, 35]])\n",
    "\n",
    "print(\"Mean:\", np.mean(ucs420_yuvraj))\n",
    "print(\"Median:\", np.median(ucs420_yuvraj))\n",
    "print(\"Max:\", np.max(ucs420_yuvraj))\n",
    "print(\"Min:\", np.min(ucs420_yuvraj))\n",
    "print(\"Unique Elements:\", np.unique(ucs420_yuvraj))\n",
    "\n",
    "reshaped_array = ucs420_yuvraj.reshape(4, 3)\n",
    "print(\"Reshaped Array (4x3):\\n\", reshaped_array)\n",
    "\n",
    "resized_array = reshaped_array[0:2, 0:3]\n",
    "print(\"Resized Array (2x3):\\n\", resized_array)"
   ]
  }
 ],
 "metadata": {
  "kernelspec": {
   "display_name": "Python 3",
   "language": "python",
   "name": "python3"
  },
  "language_info": {
   "codemirror_mode": {
    "name": "ipython",
    "version": 3
   },
   "file_extension": ".py",
   "mimetype": "text/x-python",
   "name": "python",
   "nbconvert_exporter": "python",
   "pygments_lexer": "ipython3",
   "version": "3.13.1"
  }
 },
 "nbformat": 4,
 "nbformat_minor": 2
}
